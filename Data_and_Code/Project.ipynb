{
 "cells": [
  {
   "cell_type": "code",
   "execution_count": 47,
   "id": "c2f32327-5169-40cd-9b16-4a7bf5833b66",
   "metadata": {
    "tags": []
   },
   "outputs": [
    {
     "name": "stdout",
     "output_type": "stream",
     "text": [
      "/home/ec2-user\n"
     ]
    }
   ],
   "source": [
    "!pwd"
   ]
  },
  {
   "cell_type": "markdown",
   "id": "c560bbeb-f107-446a-a654-3b5164d0d404",
   "metadata": {
    "tags": []
   },
   "source": [
    "### 3 Data Pipeline"
   ]
  },
  {
   "cell_type": "markdown",
   "id": "af7a5f2c-3086-4b80-acb8-d7c63ceacfb2",
   "metadata": {
    "jp-MarkdownHeadingCollapsed": true,
    "tags": []
   },
   "source": [
    "#### Task 1  - Data Ingestion from S3"
   ]
  },
  {
   "cell_type": "markdown",
   "id": "2ca60661-01a2-4244-846e-16964d25dcaa",
   "metadata": {
    "tags": []
   },
   "source": [
    "##### a. Load data S3 -> Pyspark environment"
   ]
  },
  {
   "cell_type": "code",
   "execution_count": 4,
   "id": "b18205b5-70e1-49b9-bdd6-ce08b585f700",
   "metadata": {
    "tags": []
   },
   "outputs": [
    {
     "name": "stdout",
     "output_type": "stream",
     "text": [
      "2024-12-07 16:14:26 customer-storage-bucket\n"
     ]
    }
   ],
   "source": [
    "! aws s3 ls"
   ]
  },
  {
   "cell_type": "code",
   "execution_count": 5,
   "id": "17bad8f0-7bcf-4c1f-944d-642115a2585a",
   "metadata": {
    "tags": []
   },
   "outputs": [
    {
     "name": "stdout",
     "output_type": "stream",
     "text": [
      "                           PRE processed_data/\n",
      "                           PRE raw_data/\n"
     ]
    }
   ],
   "source": [
    "! aws s3 ls s3://customer-storage-bucket/"
   ]
  },
  {
   "cell_type": "code",
   "execution_count": 6,
   "id": "9a8642ff-1b6e-49d7-aa78-f401fbb28906",
   "metadata": {
    "tags": []
   },
   "outputs": [
    {
     "name": "stdout",
     "output_type": "stream",
     "text": [
      "2024-12-07 16:15:55          0 \n",
      "2024-12-07 16:19:44   23715344 Online_Retail.xlsx\n"
     ]
    }
   ],
   "source": [
    "! aws s3 ls s3://customer-storage-bucket/raw_data/"
   ]
  },
  {
   "cell_type": "code",
   "execution_count": 7,
   "id": "2e75e784-efd7-4ee0-8d67-1c3126516ee7",
   "metadata": {
    "tags": []
   },
   "outputs": [
    {
     "name": "stdout",
     "output_type": "stream",
     "text": [
      "download: s3://customer-storage-bucket/raw_data/Online_Retail.xlsx to ./Online_Retail.xlsx\n"
     ]
    }
   ],
   "source": [
    "! aws s3 cp s3://customer-storage-bucket/raw_data/Online_Retail.xlsx  ./"
   ]
  },
  {
   "cell_type": "markdown",
   "id": "e270a11e-f45d-419a-a951-957b6f2047c7",
   "metadata": {
    "jp-MarkdownHeadingCollapsed": true,
    "tags": []
   },
   "source": [
    "##### b. data inspection in Pyspark environment"
   ]
  },
  {
   "cell_type": "code",
   "execution_count": 8,
   "id": "69f2f4d7-52f1-4e63-8744-0ef37c6b009e",
   "metadata": {
    "tags": []
   },
   "outputs": [
    {
     "name": "stdout",
     "output_type": "stream",
     "text": [
      "Online_Retail.xlsx  Project.ipynb  scala-2.13.6.rpm\n"
     ]
    }
   ],
   "source": [
    "!ls"
   ]
  },
  {
   "cell_type": "markdown",
   "id": "0b7a1d69-bc1c-42ac-8af6-900a8c12398b",
   "metadata": {
    "jp-MarkdownHeadingCollapsed": true,
    "tags": []
   },
   "source": [
    "#### Task 2 - Data Processing with PySpark"
   ]
  },
  {
   "cell_type": "code",
   "execution_count": 1,
   "id": "676b33e7-a529-41c7-8ec7-8f6a962e81a7",
   "metadata": {
    "tags": []
   },
   "outputs": [
    {
     "name": "stderr",
     "output_type": "stream",
     "text": [
      "Setting default log level to \"WARN\".\n",
      "To adjust logging level use sc.setLogLevel(newLevel). For SparkR, use setLogLevel(newLevel).\n",
      "24/12/07 21:49:56 WARN NativeCodeLoader: Unable to load native-hadoop library for your platform... using builtin-java classes where applicable\n",
      "/home/ec2-user/.local/lib/python3.7/site-packages/pyspark/context.py:317: FutureWarning: Python 3.7 support is deprecated in Spark 3.4.\n",
      "  warnings.warn(\"Python 3.7 support is deprecated in Spark 3.4.\", FutureWarning)\n"
     ]
    }
   ],
   "source": [
    "from pyspark.sql import SparkSession\n",
    "\n",
    "# Create Spark session\n",
    "spark = SparkSession.builder \\\n",
    "    .appName(\"MiniProject_Retail\") \\\n",
    "    .getOrCreate()"
   ]
  },
  {
   "cell_type": "code",
   "execution_count": 17,
   "id": "7ef32d27-9230-4aa3-b95f-e83a1fcd5eb0",
   "metadata": {
    "tags": []
   },
   "outputs": [
    {
     "data": {
      "text/html": [
       "\n",
       "            <div>\n",
       "                <p><b>SparkSession - in-memory</b></p>\n",
       "                \n",
       "        <div>\n",
       "            <p><b>SparkContext</b></p>\n",
       "\n",
       "            <p><a href=\"http://ip-172-31-86-248.ec2.internal:4040\">Spark UI</a></p>\n",
       "\n",
       "            <dl>\n",
       "              <dt>Version</dt>\n",
       "                <dd><code>v3.4.4</code></dd>\n",
       "              <dt>Master</dt>\n",
       "                <dd><code>local[*]</code></dd>\n",
       "              <dt>AppName</dt>\n",
       "                <dd><code>MiniProject_Retail</code></dd>\n",
       "            </dl>\n",
       "        </div>\n",
       "        \n",
       "            </div>\n",
       "        "
      ],
      "text/plain": [
       "<pyspark.sql.session.SparkSession at 0x7eff60cbea10>"
      ]
     },
     "execution_count": 17,
     "metadata": {},
     "output_type": "execute_result"
    }
   ],
   "source": [
    "spark"
   ]
  },
  {
   "cell_type": "code",
   "execution_count": 14,
   "id": "90e5fd35-b0e1-4918-8d99-f271ff528a8e",
   "metadata": {
    "tags": []
   },
   "outputs": [
    {
     "name": "stdout",
     "output_type": "stream",
     "text": [
      "Defaulting to user installation because normal site-packages is not writeable\n",
      "Collecting pandas\n",
      "  Downloading pandas-1.3.5-cp37-cp37m-manylinux_2_17_x86_64.manylinux2014_x86_64.whl (11.3 MB)\n",
      "\u001b[K     |████████████████████████████████| 11.3 MB 38.6 MB/s eta 0:00:01    |██████████████████████▍         | 7.9 MB 38.6 MB/s eta 0:00:01\n",
      "\u001b[?25hRequirement already satisfied: pytz>=2017.3 in ./.local/lib/python3.7/site-packages (from pandas) (2024.2)\n",
      "Requirement already satisfied: python-dateutil>=2.7.3 in ./.local/lib/python3.7/site-packages (from pandas) (2.9.0.post0)\n",
      "Collecting numpy>=1.17.3; platform_machine != \"aarch64\" and platform_machine != \"arm64\" and python_version < \"3.10\"\n",
      "  Downloading numpy-1.21.6-cp37-cp37m-manylinux_2_12_x86_64.manylinux2010_x86_64.whl (15.7 MB)\n",
      "\u001b[K     |████████████████████████████████| 15.7 MB 46.9 MB/s eta 0:00:01\n",
      "\u001b[?25hRequirement already satisfied: six>=1.5 in ./.local/lib/python3.7/site-packages (from python-dateutil>=2.7.3->pandas) (1.17.0)\n",
      "Installing collected packages: numpy, pandas\n",
      "Successfully installed numpy-1.21.6 pandas-1.3.5\n"
     ]
    }
   ],
   "source": [
    "!pip3 install pandas"
   ]
  },
  {
   "cell_type": "code",
   "execution_count": 16,
   "id": "60f2b32f-4b5b-4125-93ba-d1365c4fb8df",
   "metadata": {
    "tags": []
   },
   "outputs": [
    {
     "name": "stdout",
     "output_type": "stream",
     "text": [
      "Defaulting to user installation because normal site-packages is not writeable\n",
      "Collecting openpyxl\n",
      "  Downloading openpyxl-3.1.3-py2.py3-none-any.whl (251 kB)\n",
      "\u001b[K     |████████████████████████████████| 251 kB 20.5 MB/s eta 0:00:01\n",
      "\u001b[?25hCollecting et-xmlfile\n",
      "  Downloading et_xmlfile-1.1.0-py3-none-any.whl (4.7 kB)\n",
      "Installing collected packages: et-xmlfile, openpyxl\n",
      "Successfully installed et-xmlfile-1.1.0 openpyxl-3.1.3\n"
     ]
    }
   ],
   "source": [
    "!pip3 install openpyxl"
   ]
  },
  {
   "cell_type": "code",
   "execution_count": 3,
   "id": "1d1d2ca5-2637-4162-966a-3db8524108ab",
   "metadata": {
    "tags": []
   },
   "outputs": [],
   "source": [
    "## As our raw file is in xlsx format - lets convert to csv - \n",
    "import pandas as pd\n",
    "\n",
    "# Convert Excel to CSV using pandas\n",
    "excel_file = \"Online_Retail.xlsx\"\n",
    "csv_file = \"Online_Retail.csv\"\n",
    "pd.read_excel(excel_file).to_csv(csv_file, index=False)\n"
   ]
  },
  {
   "cell_type": "code",
   "execution_count": 4,
   "id": "4f4ce998-0ed3-4d58-a8c3-0cbed763679b",
   "metadata": {
    "tags": []
   },
   "outputs": [
    {
     "name": "stderr",
     "output_type": "stream",
     "text": [
      "                                                                                \r"
     ]
    },
    {
     "name": "stdout",
     "output_type": "stream",
     "text": [
      "+---------+---------+--------------------+--------+-------------------+---------+----------+--------------+\n",
      "|InvoiceNo|StockCode|         Description|Quantity|        InvoiceDate|UnitPrice|CustomerID|       Country|\n",
      "+---------+---------+--------------------+--------+-------------------+---------+----------+--------------+\n",
      "|   536365|   85123A|WHITE HANGING HEA...|       6|2010-12-01 08:26:00|     2.55|   17850.0|United Kingdom|\n",
      "|   536365|    71053| WHITE METAL LANTERN|       6|2010-12-01 08:26:00|     3.39|   17850.0|United Kingdom|\n",
      "|   536365|   84406B|CREAM CUPID HEART...|       8|2010-12-01 08:26:00|     2.75|   17850.0|United Kingdom|\n",
      "|   536365|   84029G|KNITTED UNION FLA...|       6|2010-12-01 08:26:00|     3.39|   17850.0|United Kingdom|\n",
      "|   536365|   84029E|RED WOOLLY HOTTIE...|       6|2010-12-01 08:26:00|     3.39|   17850.0|United Kingdom|\n",
      "|   536365|    22752|SET 7 BABUSHKA NE...|       2|2010-12-01 08:26:00|     7.65|   17850.0|United Kingdom|\n",
      "|   536365|    21730|GLASS STAR FROSTE...|       6|2010-12-01 08:26:00|     4.25|   17850.0|United Kingdom|\n",
      "|   536366|    22633|HAND WARMER UNION...|       6|2010-12-01 08:28:00|     1.85|   17850.0|United Kingdom|\n",
      "|   536366|    22632|HAND WARMER RED P...|       6|2010-12-01 08:28:00|     1.85|   17850.0|United Kingdom|\n",
      "|   536367|    84879|ASSORTED COLOUR B...|      32|2010-12-01 08:34:00|     1.69|   13047.0|United Kingdom|\n",
      "|   536367|    22745|POPPY'S PLAYHOUSE...|       6|2010-12-01 08:34:00|      2.1|   13047.0|United Kingdom|\n",
      "|   536367|    22748|POPPY'S PLAYHOUSE...|       6|2010-12-01 08:34:00|      2.1|   13047.0|United Kingdom|\n",
      "|   536367|    22749|FELTCRAFT PRINCES...|       8|2010-12-01 08:34:00|     3.75|   13047.0|United Kingdom|\n",
      "|   536367|    22310|IVORY KNITTED MUG...|       6|2010-12-01 08:34:00|     1.65|   13047.0|United Kingdom|\n",
      "|   536367|    84969|BOX OF 6 ASSORTED...|       6|2010-12-01 08:34:00|     4.25|   13047.0|United Kingdom|\n",
      "|   536367|    22623|BOX OF VINTAGE JI...|       3|2010-12-01 08:34:00|     4.95|   13047.0|United Kingdom|\n",
      "|   536367|    22622|BOX OF VINTAGE AL...|       2|2010-12-01 08:34:00|     9.95|   13047.0|United Kingdom|\n",
      "|   536367|    21754|HOME BUILDING BLO...|       3|2010-12-01 08:34:00|     5.95|   13047.0|United Kingdom|\n",
      "|   536367|    21755|LOVE BUILDING BLO...|       3|2010-12-01 08:34:00|     5.95|   13047.0|United Kingdom|\n",
      "|   536367|    21777|RECIPE BOX WITH M...|       4|2010-12-01 08:34:00|     7.95|   13047.0|United Kingdom|\n",
      "+---------+---------+--------------------+--------+-------------------+---------+----------+--------------+\n",
      "only showing top 20 rows\n",
      "\n"
     ]
    }
   ],
   "source": [
    "#### Load data set\n",
    "df = spark.read.csv(csv_file, header=True, inferSchema=True)\n",
    "df.show()"
   ]
  },
  {
   "cell_type": "code",
   "execution_count": 5,
   "id": "9410bcf1-4520-456e-82d2-87d1edbbf14c",
   "metadata": {
    "tags": []
   },
   "outputs": [
    {
     "name": "stdout",
     "output_type": "stream",
     "text": [
      "root\n",
      " |-- InvoiceNo: string (nullable = true)\n",
      " |-- StockCode: string (nullable = true)\n",
      " |-- Description: string (nullable = true)\n",
      " |-- Quantity: integer (nullable = true)\n",
      " |-- InvoiceDate: timestamp (nullable = true)\n",
      " |-- UnitPrice: double (nullable = true)\n",
      " |-- CustomerID: double (nullable = true)\n",
      " |-- Country: string (nullable = true)\n",
      "\n"
     ]
    }
   ],
   "source": [
    "df.printSchema()"
   ]
  },
  {
   "cell_type": "code",
   "execution_count": 23,
   "id": "ee8efef7-9fd5-4912-b9d3-7facfc83635a",
   "metadata": {
    "tags": []
   },
   "outputs": [
    {
     "name": "stdout",
     "output_type": "stream",
     "text": [
      "Total Records: 541909\n"
     ]
    }
   ],
   "source": [
    "print(f\"Total Records: {df.count()}\")"
   ]
  },
  {
   "cell_type": "code",
   "execution_count": 24,
   "id": "fa19784d-1828-4514-bbbc-3889bc8b9b99",
   "metadata": {
    "tags": []
   },
   "outputs": [
    {
     "name": "stderr",
     "output_type": "stream",
     "text": [
      "[Stage 9:>                                                          (0 + 1) / 1]\r"
     ]
    },
    {
     "name": "stdout",
     "output_type": "stream",
     "text": [
      "+---------+---------+-----------+--------+-----------+---------+----------+-------+\n",
      "|InvoiceNo|StockCode|Description|Quantity|InvoiceDate|UnitPrice|CustomerID|Country|\n",
      "+---------+---------+-----------+--------+-----------+---------+----------+-------+\n",
      "|        0|        0|       1454|       0|          0|        0|    135080|      0|\n",
      "+---------+---------+-----------+--------+-----------+---------+----------+-------+\n",
      "\n"
     ]
    },
    {
     "name": "stderr",
     "output_type": "stream",
     "text": [
      "                                                                                \r"
     ]
    }
   ],
   "source": [
    "### Checking null values if any (as per source there are no null values)\n",
    "from pyspark.sql.functions import col, sum\n",
    "\n",
    "# Check if any column has null values\n",
    "df.select([sum(col(c).isNull().cast(\"int\")).alias(c) for c in df.columns]).show()\n"
   ]
  },
  {
   "cell_type": "code",
   "execution_count": 6,
   "id": "056ff417-0adc-4dec-b893-f3152d2cc38a",
   "metadata": {
    "tags": []
   },
   "outputs": [],
   "source": [
    "### droped null values\n",
    "df = df.dropna(subset=[\"CustomerID\", \"Description\"])"
   ]
  },
  {
   "cell_type": "code",
   "execution_count": 26,
   "id": "de483624-ab78-4946-aa59-d81734cb1663",
   "metadata": {
    "tags": []
   },
   "outputs": [
    {
     "name": "stderr",
     "output_type": "stream",
     "text": [
      "[Stage 12:>                                                         (0 + 1) / 1]\r"
     ]
    },
    {
     "name": "stdout",
     "output_type": "stream",
     "text": [
      "+---------+---------+-----------+--------+-----------+---------+----------+-------+\n",
      "|InvoiceNo|StockCode|Description|Quantity|InvoiceDate|UnitPrice|CustomerID|Country|\n",
      "+---------+---------+-----------+--------+-----------+---------+----------+-------+\n",
      "|        0|        0|          0|       0|          0|        0|         0|      0|\n",
      "+---------+---------+-----------+--------+-----------+---------+----------+-------+\n",
      "\n"
     ]
    },
    {
     "name": "stderr",
     "output_type": "stream",
     "text": [
      "                                                                                \r"
     ]
    }
   ],
   "source": [
    "df.select([sum(col(c).isNull().cast(\"int\")).alias(c) for c in df.columns]).show()"
   ]
  },
  {
   "cell_type": "code",
   "execution_count": 27,
   "id": "e31e7d7b-cf41-4c71-b5af-cabc5a51b0bc",
   "metadata": {
    "tags": []
   },
   "outputs": [
    {
     "name": "stderr",
     "output_type": "stream",
     "text": [
      "[Stage 15:>                                                         (0 + 1) / 1]\r"
     ]
    },
    {
     "name": "stdout",
     "output_type": "stream",
     "text": [
      "Total Records: 406829\n"
     ]
    },
    {
     "name": "stderr",
     "output_type": "stream",
     "text": [
      "                                                                                \r"
     ]
    }
   ],
   "source": [
    "print(f\"Total Records: {df.count()}\")"
   ]
  },
  {
   "cell_type": "markdown",
   "id": "3b36045f-d239-413e-a52e-c8279aa6a163",
   "metadata": {
    "tags": []
   },
   "source": [
    "##### 1. Data Transformations"
   ]
  },
  {
   "cell_type": "code",
   "execution_count": 7,
   "id": "cb835415-3b08-4cf4-9535-cee17d078363",
   "metadata": {
    "tags": []
   },
   "outputs": [],
   "source": [
    "from pyspark.sql.functions import col, to_timestamp, year, month, concat_ws\n",
    "# Convert InvoiceDate to timestamp type\n",
    "df = df.withColumn(\"InvoiceDate\", to_timestamp(col(\"InvoiceDate\")))"
   ]
  },
  {
   "cell_type": "code",
   "execution_count": 8,
   "id": "1a28ffc7-9fce-4b6e-a0c9-cf630713072a",
   "metadata": {
    "tags": []
   },
   "outputs": [],
   "source": [
    "# Add TotalPrice column\n",
    "df = df.withColumn(\"Revenue\", col(\"Quantity\") * col(\"UnitPrice\"))"
   ]
  },
  {
   "cell_type": "code",
   "execution_count": 9,
   "id": "dfaf3603-c566-41ed-831a-774e3140654b",
   "metadata": {
    "tags": []
   },
   "outputs": [],
   "source": [
    "# Add InvoiceYearMonth column\n",
    "df = df.withColumn(\"InvoiceYearMonth\", concat_ws(\"-\", year(col(\"InvoiceDate\")), month(col(\"InvoiceDate\"))))\n"
   ]
  },
  {
   "cell_type": "code",
   "execution_count": 33,
   "id": "6ba4fa89-b519-498a-825e-bb69b2eeb33b",
   "metadata": {
    "tags": []
   },
   "outputs": [
    {
     "name": "stdout",
     "output_type": "stream",
     "text": [
      "+---------+---------+--------------------+--------+-------------------+---------+----------+--------------+------------------+----------------+\n",
      "|InvoiceNo|StockCode|         Description|Quantity|        InvoiceDate|UnitPrice|CustomerID|       Country|           Revenue|InvoiceYearMonth|\n",
      "+---------+---------+--------------------+--------+-------------------+---------+----------+--------------+------------------+----------------+\n",
      "|   536365|   85123A|WHITE HANGING HEA...|       6|2010-12-01 08:26:00|     2.55|   17850.0|United Kingdom|15.299999999999999|         2010-12|\n",
      "|   536365|    71053| WHITE METAL LANTERN|       6|2010-12-01 08:26:00|     3.39|   17850.0|United Kingdom|             20.34|         2010-12|\n",
      "|   536365|   84406B|CREAM CUPID HEART...|       8|2010-12-01 08:26:00|     2.75|   17850.0|United Kingdom|              22.0|         2010-12|\n",
      "|   536365|   84029G|KNITTED UNION FLA...|       6|2010-12-01 08:26:00|     3.39|   17850.0|United Kingdom|             20.34|         2010-12|\n",
      "|   536365|   84029E|RED WOOLLY HOTTIE...|       6|2010-12-01 08:26:00|     3.39|   17850.0|United Kingdom|             20.34|         2010-12|\n",
      "|   536365|    22752|SET 7 BABUSHKA NE...|       2|2010-12-01 08:26:00|     7.65|   17850.0|United Kingdom|              15.3|         2010-12|\n",
      "|   536365|    21730|GLASS STAR FROSTE...|       6|2010-12-01 08:26:00|     4.25|   17850.0|United Kingdom|              25.5|         2010-12|\n",
      "|   536366|    22633|HAND WARMER UNION...|       6|2010-12-01 08:28:00|     1.85|   17850.0|United Kingdom|11.100000000000001|         2010-12|\n",
      "|   536366|    22632|HAND WARMER RED P...|       6|2010-12-01 08:28:00|     1.85|   17850.0|United Kingdom|11.100000000000001|         2010-12|\n",
      "|   536367|    84879|ASSORTED COLOUR B...|      32|2010-12-01 08:34:00|     1.69|   13047.0|United Kingdom|             54.08|         2010-12|\n",
      "+---------+---------+--------------------+--------+-------------------+---------+----------+--------------+------------------+----------------+\n",
      "only showing top 10 rows\n",
      "\n"
     ]
    }
   ],
   "source": [
    "df.show(10)"
   ]
  },
  {
   "cell_type": "markdown",
   "id": "26a9a3bd-931f-426b-8d38-1a7e67fa179d",
   "metadata": {
    "jp-MarkdownHeadingCollapsed": true,
    "tags": []
   },
   "source": [
    "##### 2. Data Aggregation"
   ]
  },
  {
   "cell_type": "code",
   "execution_count": 10,
   "id": "15110d02-70e4-4363-ab5d-84281c861161",
   "metadata": {
    "tags": []
   },
   "outputs": [
    {
     "name": "stderr",
     "output_type": "stream",
     "text": [
      "[Stage 3:>                                                          (0 + 1) / 1]\r"
     ]
    },
    {
     "name": "stdout",
     "output_type": "stream",
     "text": [
      "+------------------+\n",
      "|           Country|\n",
      "+------------------+\n",
      "|            Sweden|\n",
      "|         Singapore|\n",
      "|           Germany|\n",
      "|               RSA|\n",
      "|            France|\n",
      "|            Greece|\n",
      "|European Community|\n",
      "|           Belgium|\n",
      "|           Finland|\n",
      "|             Malta|\n",
      "|       Unspecified|\n",
      "|             Italy|\n",
      "|              EIRE|\n",
      "|         Lithuania|\n",
      "|            Norway|\n",
      "|             Spain|\n",
      "|           Denmark|\n",
      "|           Iceland|\n",
      "|            Israel|\n",
      "|   Channel Islands|\n",
      "+------------------+\n",
      "only showing top 20 rows\n",
      "\n"
     ]
    },
    {
     "name": "stderr",
     "output_type": "stream",
     "text": [
      "                                                                                \r"
     ]
    }
   ],
   "source": [
    "df.select(\"Country\").distinct().show()"
   ]
  },
  {
   "cell_type": "code",
   "execution_count": 11,
   "id": "77d8e4fb-eca5-45f5-9447-737277b961b9",
   "metadata": {
    "tags": []
   },
   "outputs": [
    {
     "name": "stderr",
     "output_type": "stream",
     "text": [
      "[Stage 6:>                                                          (0 + 1) / 1]\r"
     ]
    },
    {
     "name": "stdout",
     "output_type": "stream",
     "text": [
      "+--------------+------------------+\n",
      "|       Country|     Total_Revenue|\n",
      "+--------------+------------------+\n",
      "|United Kingdom| 6767873.394002574|\n",
      "|   Netherlands|284661.54000000015|\n",
      "|          EIRE|250285.21999999872|\n",
      "|       Germany|221698.20999999862|\n",
      "|        France| 196712.8399999999|\n",
      "|     Australia|137077.26999999973|\n",
      "|   Switzerland| 55739.40000000004|\n",
      "|         Spain| 54774.57999999997|\n",
      "|       Belgium| 40910.95999999998|\n",
      "|        Sweden|          36595.91|\n",
      "+--------------+------------------+\n",
      "only showing top 10 rows\n",
      "\n"
     ]
    },
    {
     "name": "stderr",
     "output_type": "stream",
     "text": [
      "                                                                                \r"
     ]
    }
   ],
   "source": [
    "from pyspark.sql import functions as F\n",
    "# Compute Total Revenue by Country\n",
    "df = df.withColumn(\"Revenue\", F.col(\"Quantity\") * F.col(\"UnitPrice\"))  # Create a column for revenue\n",
    "\n",
    "# Total Revenue by Country\n",
    "totalRevenueByCountry = df.groupBy(\"Country\").agg(F.sum(\"Revenue\").alias(\"Total_Revenue\")).orderBy(F.desc(\"Total_Revenue\"))\n",
    "\n",
    "totalRevenueByCountry.show(10)"
   ]
  },
  {
   "cell_type": "code",
   "execution_count": 12,
   "id": "af1b09c3-3193-484d-88d1-e06855d5c839",
   "metadata": {
    "tags": []
   },
   "outputs": [
    {
     "name": "stderr",
     "output_type": "stream",
     "text": [
      "[Stage 9:>                                                          (0 + 1) / 1]\r"
     ]
    },
    {
     "name": "stdout",
     "output_type": "stream",
     "text": [
      "+----------+-----------------------+\n",
      "|CustomerID|Total_Transaction_Value|\n",
      "+----------+-----------------------+\n",
      "|   14646.0|      279489.0199999999|\n",
      "|   18102.0|     256438.49000000005|\n",
      "|   17450.0|     187482.17000000013|\n",
      "|   14911.0|      132572.6199999998|\n",
      "|   12415.0|     123725.44999999987|\n",
      "|   14156.0|     113384.13999999985|\n",
      "|   17511.0|      88125.37999999996|\n",
      "|   16684.0|      65892.07999999999|\n",
      "|   13694.0|      62653.10000000003|\n",
      "|   15311.0|      59419.34000000011|\n",
      "+----------+-----------------------+\n",
      "only showing top 10 rows\n",
      "\n"
     ]
    },
    {
     "name": "stderr",
     "output_type": "stream",
     "text": [
      "                                                                                \r"
     ]
    }
   ],
   "source": [
    "customerTransactionValue = df.groupBy(\"CustomerID\").agg(\n",
    "    F.sum(\"Revenue\").alias(\"Total_Transaction_Value\")\n",
    ").orderBy(F.desc(\"Total_Transaction_Value\"))\n",
    "\n",
    "customerTransactionValue.show(10)"
   ]
  },
  {
   "cell_type": "code",
   "execution_count": 13,
   "id": "d7575dee-8885-4556-ae7e-f8832b5697e5",
   "metadata": {
    "tags": []
   },
   "outputs": [
    {
     "name": "stderr",
     "output_type": "stream",
     "text": [
      "[Stage 12:>                                                         (0 + 1) / 1]\r"
     ]
    },
    {
     "name": "stdout",
     "output_type": "stream",
     "text": [
      "+--------------+-------------------+\n",
      "|       Country|Total_Quantity_Sold|\n",
      "+--------------+-------------------+\n",
      "|United Kingdom|            4008533|\n",
      "|   Netherlands|             200128|\n",
      "|          EIRE|             136329|\n",
      "|       Germany|             117448|\n",
      "|        France|             109848|\n",
      "|     Australia|              83653|\n",
      "|        Sweden|              35637|\n",
      "|   Switzerland|              29778|\n",
      "|         Spain|              26824|\n",
      "|         Japan|              25218|\n",
      "+--------------+-------------------+\n",
      "only showing top 10 rows\n",
      "\n"
     ]
    },
    {
     "name": "stderr",
     "output_type": "stream",
     "text": [
      "                                                                                \r"
     ]
    }
   ],
   "source": [
    "# Compute Total Quantity Sold by Region**\n",
    "totalQuantityCountry = df.groupBy(\"Country\").agg(\n",
    "    F.sum(\"Quantity\").alias(\"Total_Quantity_Sold\")\n",
    ").orderBy(F.desc(\"Total_Quantity_Sold\"))\n",
    "\n",
    "totalQuantityCountry.show(10)"
   ]
  },
  {
   "cell_type": "code",
   "execution_count": 14,
   "id": "cfc76b55-dfe8-4081-9d24-ca558f13715c",
   "metadata": {
    "tags": []
   },
   "outputs": [
    {
     "name": "stderr",
     "output_type": "stream",
     "text": [
      "[Stage 15:>                                                         (0 + 1) / 1]\r"
     ]
    },
    {
     "name": "stdout",
     "output_type": "stream",
     "text": [
      "+----------------+------------------+\n",
      "|InvoiceYearMonth|     Total_Revenue|\n",
      "+----------------+------------------+\n",
      "|         2010-12|  554604.020000018|\n",
      "|          2011-1|475074.38000001636|\n",
      "|         2011-10| 974603.5899999909|\n",
      "|         2011-11|1132407.7399999578|\n",
      "|         2011-12| 342506.3800000034|\n",
      "|          2011-2| 436546.1500000147|\n",
      "|          2011-3| 579964.6100000151|\n",
      "|          2011-4| 426047.8510000125|\n",
      "|          2011-5|  648251.080000003|\n",
      "|          2011-6| 608013.1600000106|\n",
      "|          2011-7|  574238.481000012|\n",
      "|          2011-8| 616368.0000000092|\n",
      "+----------------+------------------+\n",
      "only showing top 12 rows\n",
      "\n"
     ]
    },
    {
     "name": "stderr",
     "output_type": "stream",
     "text": [
      "                                                                                \r"
     ]
    }
   ],
   "source": [
    "# Monthly Spending Trends**\n",
    "monthly_spending_trends = df.groupBy(\"InvoiceYearMonth\").agg(\n",
    "    F.sum(\"Revenue\").alias(\"Total_Revenue\")\n",
    ").orderBy(\"InvoiceYearMonth\")\n",
    "\n",
    "monthly_spending_trends.show(12)"
   ]
  },
  {
   "cell_type": "code",
   "execution_count": 15,
   "id": "03145d08-2da7-4ea0-98ca-51d8388c8460",
   "metadata": {
    "tags": []
   },
   "outputs": [
    {
     "name": "stderr",
     "output_type": "stream",
     "text": [
      "[Stage 18:>                                                         (0 + 1) / 1]\r"
     ]
    },
    {
     "name": "stdout",
     "output_type": "stream",
     "text": [
      "+----------+-------------------------+\n",
      "|CustomerID|Average_Transaction_Value|\n",
      "+----------+-------------------------+\n",
      "|   15195.0|                   3861.0|\n",
      "|   13135.0|                   3096.0|\n",
      "|   17846.0|                   2033.1|\n",
      "|   16532.0|                   1687.2|\n",
      "|   15749.0|       1435.7266666666667|\n",
      "|   16000.0|       1377.0777777777778|\n",
      "|   16754.0|                   1001.2|\n",
      "|   12798.0|        872.1299999999999|\n",
      "|   17553.0|                    743.8|\n",
      "|   17949.0|        667.7321518987343|\n",
      "+----------+-------------------------+\n",
      "only showing top 10 rows\n",
      "\n"
     ]
    },
    {
     "name": "stderr",
     "output_type": "stream",
     "text": [
      "                                                                                \r"
     ]
    }
   ],
   "source": [
    "# Compute Average Transaction Value per Customer\n",
    "averageTransactionPerCustomer = df.groupBy(\"CustomerID\").agg(\n",
    "    F.avg(\"Revenue\").alias(\"Average_Transaction_Value\")\n",
    ").orderBy(F.desc(\"Average_Transaction_Value\"))\n",
    "\n",
    "averageTransactionPerCustomer.show(10)"
   ]
  },
  {
   "cell_type": "markdown",
   "id": "4954a74c-0424-486c-8603-1dd57321c1c8",
   "metadata": {
    "jp-MarkdownHeadingCollapsed": true,
    "tags": []
   },
   "source": [
    "#### Task 3: Store Processed Data Back to S3"
   ]
  },
  {
   "cell_type": "markdown",
   "id": "e7cfe4bb-21df-41c0-b6da-7426afa9c418",
   "metadata": {
    "jp-MarkdownHeadingCollapsed": true,
    "tags": []
   },
   "source": [
    "##### a.Step 1 Export data in CSV"
   ]
  },
  {
   "cell_type": "code",
   "execution_count": 16,
   "id": "bfc4b1ec-b225-4754-9943-09032d7aaf1c",
   "metadata": {
    "tags": []
   },
   "outputs": [
    {
     "name": "stdout",
     "output_type": "stream",
     "text": [
      "2024-12-07 16:14:26 customer-storage-bucket\n",
      "2024-12-07 21:03:09 sagemaker-studio-724772065279-gf2z5vlral\n",
      "2024-12-07 21:03:11 sagemaker-us-east-1-724772065279\n"
     ]
    }
   ],
   "source": [
    "! aws s3 ls"
   ]
  },
  {
   "cell_type": "code",
   "execution_count": 19,
   "id": "07ff07f7-7044-421f-baf4-47ccf9f42904",
   "metadata": {
    "tags": []
   },
   "outputs": [],
   "source": [
    "!mkdir processed"
   ]
  },
  {
   "cell_type": "code",
   "execution_count": 20,
   "id": "f650f428-4b15-4cd0-9aad-c6ae6e5fbb04",
   "metadata": {
    "tags": []
   },
   "outputs": [
    {
     "name": "stderr",
     "output_type": "stream",
     "text": [
      "                                                                                \r"
     ]
    }
   ],
   "source": [
    "## lets save to local first\n",
    "df.write.mode(\"overwrite\").option(\"header\", \"true\").csv(\"/home/ec2-user/processed\")  # Save in csv format\n"
   ]
  },
  {
   "cell_type": "code",
   "execution_count": 21,
   "id": "a8ab7507-b07d-4f26-9587-61cf9451361d",
   "metadata": {
    "tags": []
   },
   "outputs": [
    {
     "name": "stderr",
     "output_type": "stream",
     "text": [
      "                                                                                \r"
     ]
    }
   ],
   "source": [
    "### all the aggregated data  # Save in csv format\n",
    "\n",
    "totalRevenueByCountry.write.mode(\"overwrite\").option(\"header\", \"true\").csv(\"/home/ec2-user/totalRevenueByCountry\") \n",
    "customerTransactionValue.write.mode(\"overwrite\").option(\"header\", \"true\").csv(\"/home/ec2-user/customerTransactionValue\") \n",
    "totalQuantityCountry.write.mode(\"overwrite\").option(\"header\", \"true\").csv(\"/home/ec2-user/totalQuantityCountry\") \n",
    "monthly_spending_trends.write.mode(\"overwrite\").option(\"header\", \"true\").csv(\"/home/ec2-user/monthly_spending_trends\") \n",
    "averageTransactionPerCustomer.write.mode(\"overwrite\").option(\"header\", \"true\").csv(\"/home/ec2-user/averageTransactionPerCustomer\") "
   ]
  },
  {
   "cell_type": "markdown",
   "id": "d13a505e-e7ed-4fc2-8c3d-6d6e752406b0",
   "metadata": {
    "tags": []
   },
   "source": [
    "##### b.\tStep 2  Upload the processed data to a designated S3 location"
   ]
  },
  {
   "cell_type": "code",
   "execution_count": 2,
   "id": "86abf155-0d55-4598-911b-08a2ad472755",
   "metadata": {
    "tags": []
   },
   "outputs": [
    {
     "name": "stdout",
     "output_type": "stream",
     "text": [
      "2024-12-07 16:14:26 customer-storage-bucket\n"
     ]
    }
   ],
   "source": [
    "### Now lets copy all of them to S3 using AWS CLI\n",
    "!aws s3 ls"
   ]
  },
  {
   "cell_type": "code",
   "execution_count": 22,
   "id": "89457fee-61f7-4fd3-85ed-098900d23b87",
   "metadata": {
    "tags": []
   },
   "outputs": [
    {
     "name": "stdout",
     "output_type": "stream",
     "text": [
      "upload: processed/._SUCCESS.crc to s3://customer-storage-bucket/processed_data/._SUCCESS.crc\n",
      "upload: processed/_SUCCESS to s3://customer-storage-bucket/processed_data/_SUCCESS\n",
      "upload: processed/.part-00000-f046cc7f-87ee-4b39-b6cb-d2aedf34dde9-c000.csv.crc to s3://customer-storage-bucket/processed_data/.part-00000-f046cc7f-87ee-4b39-b6cb-d2aedf34dde9-c000.csv.crc\n",
      "upload: processed/part-00000-f046cc7f-87ee-4b39-b6cb-d2aedf34dde9-c000.csv to s3://customer-storage-bucket/processed_data/part-00000-f046cc7f-87ee-4b39-b6cb-d2aedf34dde9-c000.csv\n"
     ]
    }
   ],
   "source": [
    "! aws s3 cp /home/ec2-user/processed/ s3://customer-storage-bucket/processed_data --recursive\n"
   ]
  },
  {
   "cell_type": "code",
   "execution_count": 23,
   "id": "d948eae6-ff0c-4ca5-958f-529ffcbfcf06",
   "metadata": {
    "tags": []
   },
   "outputs": [
    {
     "name": "stdout",
     "output_type": "stream",
     "text": [
      "warning: Skipping file /dev/null. File is character special device, block special device, FIFO, or socket.\n",
      "                                                              \n",
      "warning: Skipping file /dev/null. File is character special device, block special device, FIFO, or socket.\n",
      "                                                              \n",
      "warning: Skipping file /dev/null. File is character special device, block special device, FIFO, or socket.\n",
      "                                                              \n",
      "warning: Skipping file /dev/null. File is character special device, block special device, FIFO, or socket.\n",
      "                                                              \n",
      "warning: Skipping file /dev/null. File is character special device, block special device, FIFO, or socket.\n",
      "                                                              \n"
     ]
    }
   ],
   "source": [
    "# creating folders in aws s3\n",
    "!aws s3 cp /dev/null  s3://customer-storage-bucket/totalRevenueByCountry\n",
    "!aws s3 cp /dev/null  s3://customer-storage-bucket/customerTransactionValue\n",
    "!aws s3 cp /dev/null  s3://customer-storage-bucket/totalQuantityCountry\n",
    "!aws s3 cp /dev/null  s3://customer-storage-bucket/monthly_spending_trends\n",
    "!aws s3 cp /dev/null  s3://customer-storage-bucket/averageTransactionPerCustomer"
   ]
  },
  {
   "cell_type": "code",
   "execution_count": 24,
   "id": "f98956b5-7fb5-4d86-a30b-1d5671bd8835",
   "metadata": {
    "tags": []
   },
   "outputs": [
    {
     "name": "stdout",
     "output_type": "stream",
     "text": [
      "upload: totalRevenueByCountry/_SUCCESS to s3://customer-storage-bucket/totalRevenueByCountry/_SUCCESS\n",
      "upload: totalRevenueByCountry/._SUCCESS.crc to s3://customer-storage-bucket/totalRevenueByCountry/._SUCCESS.crc\n",
      "upload: totalRevenueByCountry/.part-00000-e67377ec-eb59-40ab-85d4-47b2c1b61305-c000.csv.crc to s3://customer-storage-bucket/totalRevenueByCountry/.part-00000-e67377ec-eb59-40ab-85d4-47b2c1b61305-c000.csv.crc\n",
      "upload: totalRevenueByCountry/part-00000-e67377ec-eb59-40ab-85d4-47b2c1b61305-c000.csv to s3://customer-storage-bucket/totalRevenueByCountry/part-00000-e67377ec-eb59-40ab-85d4-47b2c1b61305-c000.csv\n",
      "upload: customerTransactionValue/_SUCCESS to s3://customer-storage-bucket/customerTransactionValue/_SUCCESS\n",
      "upload: customerTransactionValue/._SUCCESS.crc to s3://customer-storage-bucket/customerTransactionValue/._SUCCESS.crc\n",
      "upload: customerTransactionValue/part-00000-97f63484-a1d3-42da-b0e0-0dd69bc314eb-c000.csv to s3://customer-storage-bucket/customerTransactionValue/part-00000-97f63484-a1d3-42da-b0e0-0dd69bc314eb-c000.csv\n",
      "upload: customerTransactionValue/.part-00000-97f63484-a1d3-42da-b0e0-0dd69bc314eb-c000.csv.crc to s3://customer-storage-bucket/customerTransactionValue/.part-00000-97f63484-a1d3-42da-b0e0-0dd69bc314eb-c000.csv.crc\n",
      "upload: totalQuantityCountry/_SUCCESS to s3://customer-storage-bucket/totalQuantityCountry/_SUCCESS\n",
      "upload: totalQuantityCountry/._SUCCESS.crc to s3://customer-storage-bucket/totalQuantityCountry/._SUCCESS.crc\n",
      "upload: totalQuantityCountry/.part-00000-9f6650c7-c4c8-4dcc-a483-d4b38f51ab95-c000.csv.crc to s3://customer-storage-bucket/totalQuantityCountry/.part-00000-9f6650c7-c4c8-4dcc-a483-d4b38f51ab95-c000.csv.crc\n",
      "upload: totalQuantityCountry/part-00000-9f6650c7-c4c8-4dcc-a483-d4b38f51ab95-c000.csv to s3://customer-storage-bucket/totalQuantityCountry/part-00000-9f6650c7-c4c8-4dcc-a483-d4b38f51ab95-c000.csv\n",
      "upload: monthly_spending_trends/._SUCCESS.crc to s3://customer-storage-bucket/monthly_spending_trends/._SUCCESS.crc\n",
      "upload: monthly_spending_trends/_SUCCESS to s3://customer-storage-bucket/monthly_spending_trends/_SUCCESS\n",
      "upload: monthly_spending_trends/.part-00000-010364c0-0a71-4c10-8112-3230afae36cc-c000.csv.crc to s3://customer-storage-bucket/monthly_spending_trends/.part-00000-010364c0-0a71-4c10-8112-3230afae36cc-c000.csv.crc\n",
      "upload: monthly_spending_trends/part-00000-010364c0-0a71-4c10-8112-3230afae36cc-c000.csv to s3://customer-storage-bucket/monthly_spending_trends/part-00000-010364c0-0a71-4c10-8112-3230afae36cc-c000.csv\n",
      "upload: averageTransactionPerCustomer/._SUCCESS.crc to s3://customer-storage-bucket/averageTransactionPerCustomer/._SUCCESS.crc\n",
      "upload: averageTransactionPerCustomer/.part-00000-21780367-3d60-4e5c-81e8-70aeffc690b1-c000.csv.crc to s3://customer-storage-bucket/averageTransactionPerCustomer/.part-00000-21780367-3d60-4e5c-81e8-70aeffc690b1-c000.csv.crc\n",
      "upload: averageTransactionPerCustomer/_SUCCESS to s3://customer-storage-bucket/averageTransactionPerCustomer/_SUCCESS\n",
      "upload: averageTransactionPerCustomer/part-00000-21780367-3d60-4e5c-81e8-70aeffc690b1-c000.csv to s3://customer-storage-bucket/averageTransactionPerCustomer/part-00000-21780367-3d60-4e5c-81e8-70aeffc690b1-c000.csv\n"
     ]
    }
   ],
   "source": [
    "#copying\n",
    "! aws s3 cp /home/ec2-user/totalRevenueByCountry/ s3://customer-storage-bucket/totalRevenueByCountry --recursive\n",
    "! aws s3 cp /home/ec2-user/customerTransactionValue/ s3://customer-storage-bucket/customerTransactionValue --recursive\n",
    "! aws s3 cp /home/ec2-user/totalQuantityCountry/ s3://customer-storage-bucket/totalQuantityCountry --recursive\n",
    "! aws s3 cp /home/ec2-user/monthly_spending_trends/ s3://customer-storage-bucket/monthly_spending_trends --recursive\n",
    "! aws s3 cp /home/ec2-user/averageTransactionPerCustomer/ s3://customer-storage-bucket/averageTransactionPerCustomer --recursive"
   ]
  },
  {
   "cell_type": "markdown",
   "id": "68d3b3a0-1bc2-436b-8679-406bdf260da6",
   "metadata": {
    "jp-MarkdownHeadingCollapsed": true,
    "tags": []
   },
   "source": [
    "#### Task 4 - Data Analysis Using Spark SQL "
   ]
  },
  {
   "cell_type": "code",
   "execution_count": 41,
   "id": "23d1b726-49b4-413d-95e5-84c4e63a1d2a",
   "metadata": {
    "tags": []
   },
   "outputs": [
    {
     "name": "stdout",
     "output_type": "stream",
     "text": [
      "+---------+---------+--------------------+--------+-------------------+---------+----------+--------------+------------------+----------------+\n",
      "|InvoiceNo|StockCode|         Description|Quantity|        InvoiceDate|UnitPrice|CustomerID|       Country|           Revenue|InvoiceYearMonth|\n",
      "+---------+---------+--------------------+--------+-------------------+---------+----------+--------------+------------------+----------------+\n",
      "|   536365|   85123A|WHITE HANGING HEA...|       6|2010-12-01 08:26:00|     2.55|   17850.0|United Kingdom|15.299999999999999|         2010-12|\n",
      "|   536365|    71053| WHITE METAL LANTERN|       6|2010-12-01 08:26:00|     3.39|   17850.0|United Kingdom|             20.34|         2010-12|\n",
      "|   536365|   84406B|CREAM CUPID HEART...|       8|2010-12-01 08:26:00|     2.75|   17850.0|United Kingdom|              22.0|         2010-12|\n",
      "|   536365|   84029G|KNITTED UNION FLA...|       6|2010-12-01 08:26:00|     3.39|   17850.0|United Kingdom|             20.34|         2010-12|\n",
      "|   536365|   84029E|RED WOOLLY HOTTIE...|       6|2010-12-01 08:26:00|     3.39|   17850.0|United Kingdom|             20.34|         2010-12|\n",
      "|   536365|    22752|SET 7 BABUSHKA NE...|       2|2010-12-01 08:26:00|     7.65|   17850.0|United Kingdom|              15.3|         2010-12|\n",
      "|   536365|    21730|GLASS STAR FROSTE...|       6|2010-12-01 08:26:00|     4.25|   17850.0|United Kingdom|              25.5|         2010-12|\n",
      "|   536366|    22633|HAND WARMER UNION...|       6|2010-12-01 08:28:00|     1.85|   17850.0|United Kingdom|11.100000000000001|         2010-12|\n",
      "|   536366|    22632|HAND WARMER RED P...|       6|2010-12-01 08:28:00|     1.85|   17850.0|United Kingdom|11.100000000000001|         2010-12|\n",
      "|   536367|    84879|ASSORTED COLOUR B...|      32|2010-12-01 08:34:00|     1.69|   13047.0|United Kingdom|             54.08|         2010-12|\n",
      "+---------+---------+--------------------+--------+-------------------+---------+----------+--------------+------------------+----------------+\n",
      "only showing top 10 rows\n",
      "\n"
     ]
    }
   ],
   "source": [
    "df.show(10)"
   ]
  },
  {
   "cell_type": "code",
   "execution_count": 42,
   "id": "4d688aa0-a5fd-40fc-aa13-a1d26c796b79",
   "metadata": {
    "tags": []
   },
   "outputs": [],
   "source": [
    "df.createOrReplaceTempView(\"Retail_data\")"
   ]
  },
  {
   "cell_type": "code",
   "execution_count": 45,
   "id": "1ab599bb-2b43-4a55-92c5-d46d32d784b9",
   "metadata": {
    "tags": []
   },
   "outputs": [
    {
     "name": "stderr",
     "output_type": "stream",
     "text": [
      "[Stage 41:>                                                         (0 + 1) / 1]\r"
     ]
    },
    {
     "name": "stdout",
     "output_type": "stream",
     "text": [
      "+---------------+------------------+\n",
      "|        Country|      TotalRevenue|\n",
      "+---------------+------------------+\n",
      "| United Kingdom| 6767873.394002574|\n",
      "|    Netherlands|284661.54000000015|\n",
      "|           EIRE|250285.21999999872|\n",
      "|        Germany|221698.20999999862|\n",
      "|         France| 196712.8399999999|\n",
      "|      Australia|137077.26999999973|\n",
      "|    Switzerland| 55739.40000000004|\n",
      "|          Spain| 54774.57999999997|\n",
      "|        Belgium| 40910.95999999998|\n",
      "|         Sweden|          36595.91|\n",
      "|          Japan|          35340.62|\n",
      "|         Norway| 35163.46000000004|\n",
      "|       Portugal|          29059.81|\n",
      "|        Finland| 22326.73999999997|\n",
      "|Channel Islands|20086.289999999957|\n",
      "|        Denmark|18768.140000000003|\n",
      "|          Italy|16890.510000000002|\n",
      "|         Cyprus|12946.289999999999|\n",
      "|        Austria|10154.319999999996|\n",
      "|      Singapore|           9120.39|\n",
      "+---------------+------------------+\n",
      "only showing top 20 rows\n",
      "\n"
     ]
    },
    {
     "name": "stderr",
     "output_type": "stream",
     "text": [
      "                                                                                \r"
     ]
    }
   ],
   "source": [
    "# Total Revenue by Country\n",
    "spark.sql(\"\"\"\n",
    "SELECT \n",
    "    Country,\n",
    "    SUM(Revenue) AS TotalRevenue\n",
    "FROM Retail_data\n",
    "GROUP BY Country\n",
    "ORDER BY TotalRevenue DESC\n",
    "\"\"\").show()"
   ]
  },
  {
   "cell_type": "code",
   "execution_count": 47,
   "id": "d01af7e3-7545-4835-affd-ea0b2f87a140",
   "metadata": {
    "tags": []
   },
   "outputs": [
    {
     "name": "stderr",
     "output_type": "stream",
     "text": [
      "[Stage 44:>                                                         (0 + 1) / 1]\r"
     ]
    },
    {
     "name": "stdout",
     "output_type": "stream",
     "text": [
      "+----------------+------------------+\n",
      "|InvoiceYearMonth|    MonthlyRevenue|\n",
      "+----------------+------------------+\n",
      "|         2010-12|  554604.020000018|\n",
      "|          2011-1|475074.38000001636|\n",
      "|         2011-10| 974603.5899999909|\n",
      "|         2011-11|1132407.7399999578|\n",
      "|         2011-12| 342506.3800000034|\n",
      "|          2011-2| 436546.1500000147|\n",
      "|          2011-3| 579964.6100000151|\n",
      "|          2011-4| 426047.8510000125|\n",
      "|          2011-5|  648251.080000003|\n",
      "|          2011-6| 608013.1600000106|\n",
      "|          2011-7|  574238.481000012|\n",
      "|          2011-8| 616368.0000000092|\n",
      "|          2011-9| 931440.3719999959|\n",
      "+----------------+------------------+\n",
      "\n"
     ]
    },
    {
     "name": "stderr",
     "output_type": "stream",
     "text": [
      "                                                                                \r"
     ]
    }
   ],
   "source": [
    "# Monthly Spending Trends\n",
    "\n",
    "spark.sql(\"\"\"\n",
    "SELECT \n",
    "    InvoiceYearMonth, \n",
    "    SUM(Revenue) AS MonthlyRevenue\n",
    "FROM Retail_data\n",
    "GROUP BY InvoiceYearMonth\n",
    "ORDER BY InvoiceYearMonth\n",
    "\"\"\").show()"
   ]
  },
  {
   "cell_type": "code",
   "execution_count": 48,
   "id": "062c0566-6206-4882-b2ff-903e9e5d63ef",
   "metadata": {
    "tags": []
   },
   "outputs": [
    {
     "name": "stderr",
     "output_type": "stream",
     "text": [
      "[Stage 47:>                                                         (0 + 1) / 1]\r"
     ]
    },
    {
     "name": "stdout",
     "output_type": "stream",
     "text": [
      "+----------+--------------------+\n",
      "|CustomerID|TotalCustomerRevenue|\n",
      "+----------+--------------------+\n",
      "|   14646.0|   279489.0199999999|\n",
      "|   18102.0|  256438.49000000005|\n",
      "|   17450.0|  187482.17000000013|\n",
      "|   14911.0|   132572.6199999998|\n",
      "|   12415.0|  123725.44999999987|\n",
      "|   14156.0|  113384.13999999985|\n",
      "|   17511.0|   88125.37999999996|\n",
      "|   16684.0|   65892.07999999999|\n",
      "|   13694.0|   62653.10000000003|\n",
      "|   15311.0|   59419.34000000011|\n",
      "+----------+--------------------+\n",
      "\n"
     ]
    },
    {
     "name": "stderr",
     "output_type": "stream",
     "text": [
      "                                                                                \r"
     ]
    }
   ],
   "source": [
    "#Top 10 Customers by Revenue\n",
    "spark.sql(\"\"\"\n",
    "SELECT \n",
    "    CustomerID,\n",
    "    SUM(Revenue) AS TotalCustomerRevenue\n",
    "FROM Retail_data\n",
    "GROUP BY CustomerID\n",
    "ORDER BY TotalCustomerRevenue DESC\n",
    "LIMIT 10\n",
    "\"\"\").show()"
   ]
  },
  {
   "cell_type": "code",
   "execution_count": 49,
   "id": "8dc5ef7a-76dc-43b6-9996-8a5c2e154ef2",
   "metadata": {
    "tags": []
   },
   "outputs": [
    {
     "name": "stderr",
     "output_type": "stream",
     "text": [
      "[Stage 50:>                                                         (0 + 1) / 1]\r"
     ]
    },
    {
     "name": "stdout",
     "output_type": "stream",
     "text": [
      "+----------------------+\n",
      "|UniqueTransactionCount|\n",
      "+----------------------+\n",
      "|                 22190|\n",
      "+----------------------+\n",
      "\n"
     ]
    },
    {
     "name": "stderr",
     "output_type": "stream",
     "text": [
      "                                                                                \r"
     ]
    }
   ],
   "source": [
    "# Count of Unique Transactions\n",
    "spark.sql(\"\"\"\n",
    "SELECT \n",
    "    COUNT(DISTINCT InvoiceNo) AS UniqueTransactionCount\n",
    "FROM Retail_data\n",
    "\"\"\").show()"
   ]
  },
  {
   "cell_type": "code",
   "execution_count": 50,
   "id": "6d8a3497-1c35-490e-8814-ec832e04b8fb",
   "metadata": {
    "tags": []
   },
   "outputs": [
    {
     "name": "stderr",
     "output_type": "stream",
     "text": [
      "[Stage 56:>                                                         (0 + 1) / 1]\r"
     ]
    },
    {
     "name": "stdout",
     "output_type": "stream",
     "text": [
      "+------------------------+\n",
      "|AvgRevenuePerTransaction|\n",
      "+------------------------+\n",
      "|      20.401853884564613|\n",
      "+------------------------+\n",
      "\n"
     ]
    },
    {
     "name": "stderr",
     "output_type": "stream",
     "text": [
      "                                                                                \r"
     ]
    }
   ],
   "source": [
    "## Average Revenue Per Transaction\n",
    "spark.sql(\"\"\"\n",
    "SELECT \n",
    "    AVG(Revenue) AS AvgRevenuePerTransaction\n",
    "FROM Retail_data\n",
    "\"\"\").show()"
   ]
  },
  {
   "cell_type": "code",
   "execution_count": null,
   "id": "d5c7cc61-e88d-4f43-b713-10886ebadff0",
   "metadata": {},
   "outputs": [],
   "source": []
  }
 ],
 "metadata": {
  "kernelspec": {
   "display_name": "Python 3 (ipykernel)",
   "language": "python",
   "name": "python3"
  },
  "language_info": {
   "codemirror_mode": {
    "name": "ipython",
    "version": 3
   },
   "file_extension": ".py",
   "mimetype": "text/x-python",
   "name": "python",
   "nbconvert_exporter": "python",
   "pygments_lexer": "ipython3",
   "version": "3.7.16"
  }
 },
 "nbformat": 4,
 "nbformat_minor": 5
}
